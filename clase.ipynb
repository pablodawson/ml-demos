{
 "cells": [
  {
   "cell_type": "code",
   "execution_count": 24,
   "metadata": {},
   "outputs": [],
   "source": [
    "import torch\n",
    "import cv2\n",
    "import numpy as np\n",
    "import matplotlib.pyplot as plt\n",
    "from PIL import Image"
   ]
  },
  {
   "cell_type": "markdown",
   "metadata": {},
   "source": [
    "# Convolucion 1D (discreta)"
   ]
  },
  {
   "cell_type": "markdown",
   "metadata": {},
   "source": [
    "$s(t) = \\sum_{-\\infty}^{\\infty} x(a) \\omega (t-a)$"
   ]
  },
  {
   "cell_type": "markdown",
   "metadata": {},
   "source": [
    "$x$ : input \\\n",
    "$w$ : kernel \\\n",
    "$p$ : padding \\\n",
    "$s$ : stride"
   ]
  },
  {
   "cell_type": "code",
   "execution_count": null,
   "metadata": {},
   "outputs": [],
   "source": [
    "def conv1D(x, w, p=0 , s=1): \n",
    "  '''\n",
    "\n",
    "  '''\n",
    "  assert len(w) <= len(x), \"x debe ser mayor a w\"\n",
    "  assert p >= 0, \"padding debe ser positivo\"\n",
    "\n",
    "  w_r = np.array(w[::-1]) #rotation of w \n",
    "  x_padded = np.array(x)\n",
    "\n",
    "  if p > 0 :\n",
    "    zeros = np.zeros(shape = p)\n",
    "    x_padded = np.concatenate([zeros, x_padded, zeros]) #ceros hasta completar el padding\n",
    "\n",
    "  out = []\n",
    "\n",
    "  for i in range(0, int((len(x_padded) - len(w_r))) + 1 , s):\n",
    "    out.append(np.sum(x_padded[i:i + w_r.shape[0]] * w_r))\n",
    "  return np.array(out)"
   ]
  },
  {
   "cell_type": "markdown",
   "metadata": {},
   "source": [
    "Test con datos"
   ]
  },
  {
   "cell_type": "code",
   "execution_count": null,
   "metadata": {},
   "outputs": [],
   "source": [
    "x = [3,6,8,2,1,4,7,9]\n",
    "w = [2 ,3, 6, 3, 2]\n",
    "w= np.array(w)/np.max(w)\n",
    "\n",
    "s = conv1D(x,w,2,1)"
   ]
  },
  {
   "cell_type": "markdown",
   "metadata": {},
   "source": [
    "Visualizacion"
   ]
  },
  {
   "cell_type": "code",
   "execution_count": null,
   "metadata": {},
   "outputs": [],
   "source": [
    "plt.figure(figsize=(12, 8))\n",
    "\n",
    "# Graficar x\n",
    "plt.subplot(3, 1, 1)\n",
    "plt.stem(x, use_line_collection=True)\n",
    "plt.title(\"Secuencia x\")\n",
    "plt.xlabel(\"Índice\")\n",
    "plt.ylabel(\"Valor\")\n",
    "\n",
    "# Graficar w\n",
    "plt.subplot(3, 1, 2)\n",
    "plt.stem(w, use_line_collection=True)\n",
    "plt.title(\"Secuencia w (Kernel)\")\n",
    "plt.xlabel(\"Índice\")\n",
    "plt.ylabel(\"Valor\")\n",
    "\n",
    "# Graficar el resultado de la convolución\n",
    "plt.subplot(3, 1, 3)\n",
    "plt.stem(s, use_line_collection=True)\n",
    "plt.title(\"Resultado de la Convolución\")\n",
    "plt.xlabel(\"Índice\")\n",
    "plt.ylabel(\"Valor\")\n",
    "\n",
    "plt.tight_layout()\n",
    "plt.show()"
   ]
  },
  {
   "cell_type": "markdown",
   "metadata": {},
   "source": [
    "# Convolucion 2D (Imagen)"
   ]
  },
  {
   "cell_type": "markdown",
   "metadata": {},
   "source": [
    "$S(i,j) = (I*K) (i,j) = \\sum_m \\sum_n I(i-m,j-n) K(m,n)$"
   ]
  },
  {
   "cell_type": "code",
   "execution_count": 27,
   "metadata": {},
   "outputs": [],
   "source": [
    "def conv2D(A, B):\n",
    "    \"\"\"\n",
    "    Realizar una convolución 2D entre las matrices A y B.\n",
    "    \"\"\"\n",
    "    # Dimensiones de las matrices\n",
    "    a_rows, a_cols = A.shape\n",
    "    b_rows, b_cols = B.shape\n",
    "\n",
    "    # Matriz resultante con tamaño adecuado\n",
    "    result = np.zeros((a_rows + b_rows - 1, a_cols + b_cols - 1))\n",
    "\n",
    "    # Realizar la convolución\n",
    "    for i in range(a_rows):\n",
    "        for j in range(a_cols):\n",
    "            result[i:i+b_rows, j:j+b_cols] += A[i, j] * B\n",
    "\n",
    "    return result"
   ]
  },
  {
   "cell_type": "code",
   "execution_count": 29,
   "metadata": {},
   "outputs": [
    {
     "data": {
      "image/png": "[encoded data removed]",
      "text/plain": [
       "<PIL.Image.Image image mode=RGB size=100x100>"
      ]
     },
     "execution_count": 29,
     "metadata": {},
     "output_type": "execute_result"
    }
   ],
   "source": [
    "img = Image.open(\"ejemplo.jpg\").resize((100,100))\n",
    "img"
   ]
  },
  {
   "cell_type": "code",
   "execution_count": 30,
   "metadata": {},
   "outputs": [],
   "source": [
    "A = np.array(img)\n",
    "B = np.array([[1, 0, -1], \n",
    "            [1, 0, -1], \n",
    "            [1, 0, -1]])"
   ]
  },
  {
   "cell_type": "code",
   "execution_count": null,
   "metadata": {},
   "outputs": [],
   "source": []
  }
 ],
 "metadata": {
  "kernelspec": {
   "display_name": "joint",
   "language": "python",
   "name": "python3"
  },
  "language_info": {
   "codemirror_mode": {
    "name": "ipython",
    "version": 3
   },
   "file_extension": ".py",
   "mimetype": "text/x-python",
   "name": "python",
   "nbconvert_exporter": "python",
   "pygments_lexer": "ipython3",
   "version": "3.10.4"
  }
 },
 "nbformat": 4,
 "nbformat_minor": 2
}
