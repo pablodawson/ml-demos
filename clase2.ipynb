{
 "cells": [
  {
   "cell_type": "markdown",
   "metadata": {},
   "source": [
    "Paquetes"
   ]
  },
  {
   "cell_type": "code",
   "execution_count": null,
   "metadata": {},
   "outputs": [],
   "source": [
    "import torch\n",
    "import numpy as np\n",
    "from torch import nn\n",
    "import torchvision\n",
    "from collections import OrderedDict\n",
    "from PIL import Image\n",
    "from torchvision import transforms\n",
    "import matplotlib.pyplot as plt\n",
    "from torchvision import utils"
   ]
  },
  {
   "cell_type": "markdown",
   "metadata": {},
   "source": [
    "# Definicion de modelo"
   ]
  },
  {
   "cell_type": "code",
   "execution_count": null,
   "metadata": {},
   "outputs": [],
   "source": [
    "class VGG(nn.Module):\n",
    "    \"\"\"\n",
    "    Standard PyTorch implementation of VGG. Pretrained imagenet model is used.\n",
    "    \"\"\"\n",
    "    def __init__(self):\n",
    "        super().__init__()\n",
    "    \n",
    "        self.features = nn.Sequential(\n",
    "            # conv1\n",
    "            nn.Conv2d(3, 64, 3, padding=1),\n",
    "            nn.ReLU(),\n",
    "            nn.Conv2d(64, 64, 3, padding=1),\n",
    "            nn.ReLU(),\n",
    "            nn.MaxPool2d(2, stride=2, return_indices=True),\n",
    "            \n",
    "            # conv2\n",
    "            nn.Conv2d(64, 128, 3, padding=1),\n",
    "            nn.ReLU(),\n",
    "            nn.Conv2d(128, 128, 3, padding=1),\n",
    "            nn.ReLU(),\n",
    "            nn.MaxPool2d(2, stride=2, return_indices=True),\n",
    "\n",
    "            # conv3\n",
    "            nn.Conv2d(128, 256, 3, padding=1),\n",
    "            nn.ReLU(),\n",
    "            nn.Conv2d(256, 256, 3, padding=1),\n",
    "            nn.ReLU(),\n",
    "            nn.Conv2d(256, 256, 3, padding=1),\n",
    "            nn.ReLU(),\n",
    "            nn.MaxPool2d(2, stride=2, return_indices=True),\n",
    "\n",
    "            # conv4\n",
    "            nn.Conv2d(256, 512, 3, padding=1),\n",
    "            nn.ReLU(),\n",
    "            nn.Conv2d(512, 512, 3, padding=1),\n",
    "            nn.ReLU(),\n",
    "            nn.Conv2d(512, 512, 3, padding=1),\n",
    "            nn.ReLU(),\n",
    "            nn.MaxPool2d(2, stride=2, return_indices=True),\n",
    "\n",
    "            # conv5\n",
    "            nn.Conv2d(512, 512, 3, padding=1),\n",
    "            nn.ReLU(),\n",
    "            nn.Conv2d(512, 512, 3, padding=1),\n",
    "            nn.ReLU(),\n",
    "            nn.Conv2d(512, 512, 3, padding=1),\n",
    "            nn.ReLU(),\n",
    "            nn.MaxPool2d(2, stride=2, return_indices=True)\n",
    "        )\n",
    "\n",
    "        self.classifier = nn.Sequential(\n",
    "            nn.Linear(512 * 7 * 7, 4096),\n",
    "            nn.ReLU(),\n",
    "            nn.Dropout(),\n",
    "            nn.Linear(4096, 4096),\n",
    "            nn.ReLU(),\n",
    "            nn.Dropout(),\n",
    "            nn.Linear(4096, 1000)\n",
    "        )\n",
    "\n",
    "        # We need these for MaxUnpool operation\n",
    "        self.conv_layer_indices = [0, 2, 5, 7, 10, 12, 14, 17, 19, 21, 24, 26, 28]\n",
    "        self.feature_maps = OrderedDict()\n",
    "        self.pool_locs = OrderedDict()"
   ]
  },
  {
   "cell_type": "markdown",
   "metadata": {},
   "source": [
    "Cargar pesos"
   ]
  },
  {
   "cell_type": "code",
   "execution_count": null,
   "metadata": {},
   "outputs": [],
   "source": [
    "vgg = VGG()\n",
    "temp = torchvision.models.vgg16(pretrained=True)\n",
    "vgg.load_state_dict(temp.state_dict())"
   ]
  },
  {
   "cell_type": "markdown",
   "metadata": {},
   "source": [
    "Testeo"
   ]
  },
  {
   "cell_type": "code",
   "execution_count": null,
   "metadata": {},
   "outputs": [],
   "source": [
    "def visualizar_imagen(imagen):\n",
    "    imagen = imagen.numpy()\n",
    "    imagen = imagen/imagen.max()\n",
    "    imagen = np.clip(imagen, 0, 1)\n",
    "    return Image.fromarray(np.uint8(imagen*255))"
   ]
  },
  {
   "cell_type": "markdown",
   "metadata": {},
   "source": [
    "Imagen de prueba"
   ]
  },
  {
   "cell_type": "code",
   "execution_count": null,
   "metadata": {},
   "outputs": [],
   "source": [
    "input_image = Image.open(\"dog.jpg\")\n",
    "input_image.resize((224, 224))"
   ]
  },
  {
   "cell_type": "markdown",
   "metadata": {},
   "source": [
    "Transformaciones imagen -> tensor"
   ]
  },
  {
   "cell_type": "code",
   "execution_count": null,
   "metadata": {},
   "outputs": [],
   "source": [
    "preprocess = transforms.Compose([\n",
    "    transforms.Resize(256),\n",
    "    transforms.CenterCrop(224),\n",
    "    transforms.ToTensor(),\n",
    "    transforms.Normalize(mean=[0.485, 0.456, 0.406], std=[0.229, 0.224, 0.225]),\n",
    "])\n",
    "input_tensor = preprocess(input_image)\n",
    "input_batch = input_tensor.unsqueeze(0) # create a mini-batch as expected by the model\n",
    "\n",
    "# move the input and model to GPU for speed if available\n",
    "if torch.cuda.is_available():\n",
    "    input_batch = input_batch.to('cuda')\n",
    "    vgg.to('cuda')"
   ]
  },
  {
   "cell_type": "code",
   "execution_count": null,
   "metadata": {},
   "outputs": [],
   "source": [
    "input_batch.shape"
   ]
  },
  {
   "cell_type": "markdown",
   "metadata": {},
   "source": [
    "## Vista interna del modelo"
   ]
  },
  {
   "cell_type": "markdown",
   "metadata": {},
   "source": [
    "Para visualizar los filtros:"
   ]
  },
  {
   "cell_type": "code",
   "execution_count": 127,
   "metadata": {},
   "outputs": [],
   "source": [
    "def visTensor(tensor, ch=0, allkernels=False, nrow=8, padding=1): \n",
    "        n,c,w,h = tensor.shape\n",
    "\n",
    "        if allkernels: tensor = tensor.view(n*c, -1, w, h)\n",
    "        elif c != 3: tensor = tensor[:,ch,:,:].unsqueeze(dim=1)\n",
    "\n",
    "        rows = np.min((tensor.shape[0] // nrow + 1, 64))    \n",
    "        grid = utils.make_grid(tensor, nrow=nrow, normalize=True, padding=padding)\n",
    "        plt.figure( figsize=(nrow,rows) )\n",
    "        img = grid.numpy().transpose((1, 2, 0))\n",
    "        width = 200\n",
    "        height = img.shape[0] * width // img.shape[1]\n",
    "\n",
    "        return Image.fromarray(np.uint8(img*255)).resize((width,height), resample=Image.Resampling.NEAREST)\n",
    "\n",
    "def image_grid(imgs, rows, cols):\n",
    "    assert len(imgs) == rows*cols\n",
    "\n",
    "    w, h = imgs[0].size\n",
    "    grid = Image.new('RGB', size=(cols*w, rows*h))\n",
    "    grid_w, grid_h = grid.size\n",
    "    \n",
    "    for i, img in enumerate(imgs):\n",
    "        grid.paste(img, box=(i%cols*w, i//cols*h))\n",
    "    return grid"
   ]
  },
  {
   "cell_type": "markdown",
   "metadata": {},
   "source": [
    "Iniciar en capa 0"
   ]
  },
  {
   "cell_type": "code",
   "execution_count": 214,
   "metadata": {},
   "outputs": [],
   "source": [
    "j=-1\n",
    "x = input_batch"
   ]
  },
  {
   "cell_type": "code",
   "execution_count": 248,
   "metadata": {},
   "outputs": [
    {
     "ename": "IndexError",
     "evalue": "index 31 is out of range",
     "output_type": "error",
     "traceback": [
      "\u001b[1;31m---------------------------------------------------------------------------\u001b[0m",
      "\u001b[1;31mIndexError\u001b[0m                                Traceback (most recent call last)",
      "\u001b[1;32mc:\\Users\\Pablo\\ml-demos\\clase2.ipynb Cell 19\u001b[0m line \u001b[0;36m5\n\u001b[0;32m      <a href='vscode-notebook-cell:/c%3A/Users/Pablo/ml-demos/clase2.ipynb#X40sZmlsZQ%3D%3D?line=1'>2</a>\u001b[0m \u001b[39mif\u001b[39;00m j\u001b[39m<\u001b[39m\u001b[39mlen\u001b[39m(vgg\u001b[39m.\u001b[39mfeatures):\n\u001b[0;32m      <a href='vscode-notebook-cell:/c%3A/Users/Pablo/ml-demos/clase2.ipynb#X40sZmlsZQ%3D%3D?line=2'>3</a>\u001b[0m     j \u001b[39m+\u001b[39m\u001b[39m=\u001b[39m \u001b[39m1\u001b[39m\n\u001b[1;32m----> <a href='vscode-notebook-cell:/c%3A/Users/Pablo/ml-demos/clase2.ipynb#X40sZmlsZQ%3D%3D?line=4'>5</a>\u001b[0m layer \u001b[39m=\u001b[39m vgg\u001b[39m.\u001b[39mfeatures[j]\n\u001b[0;32m      <a href='vscode-notebook-cell:/c%3A/Users/Pablo/ml-demos/clase2.ipynb#X40sZmlsZQ%3D%3D?line=6'>7</a>\u001b[0m \u001b[39mif\u001b[39;00m \u001b[39misinstance\u001b[39m(layer, nn\u001b[39m.\u001b[39mMaxPool2d):\n\u001b[0;32m      <a href='vscode-notebook-cell:/c%3A/Users/Pablo/ml-demos/clase2.ipynb#X40sZmlsZQ%3D%3D?line=7'>8</a>\u001b[0m     x, location \u001b[39m=\u001b[39m layer(x)\n",
      "File \u001b[1;32mc:\\Users\\Pablo\\miniconda3\\envs\\joint\\lib\\site-packages\\torch\\nn\\modules\\container.py:107\u001b[0m, in \u001b[0;36mSequential.__getitem__\u001b[1;34m(self, idx)\u001b[0m\n\u001b[0;32m    105\u001b[0m     \u001b[39mreturn\u001b[39;00m \u001b[39mself\u001b[39m\u001b[39m.\u001b[39m\u001b[39m__class__\u001b[39m(OrderedDict(\u001b[39mlist\u001b[39m(\u001b[39mself\u001b[39m\u001b[39m.\u001b[39m_modules\u001b[39m.\u001b[39mitems())[idx]))\n\u001b[0;32m    106\u001b[0m \u001b[39melse\u001b[39;00m:\n\u001b[1;32m--> 107\u001b[0m     \u001b[39mreturn\u001b[39;00m \u001b[39mself\u001b[39;49m\u001b[39m.\u001b[39;49m_get_item_by_idx(\u001b[39mself\u001b[39;49m\u001b[39m.\u001b[39;49m_modules\u001b[39m.\u001b[39;49mvalues(), idx)\n",
      "File \u001b[1;32mc:\\Users\\Pablo\\miniconda3\\envs\\joint\\lib\\site-packages\\torch\\nn\\modules\\container.py:98\u001b[0m, in \u001b[0;36mSequential._get_item_by_idx\u001b[1;34m(self, iterator, idx)\u001b[0m\n\u001b[0;32m     96\u001b[0m idx \u001b[39m=\u001b[39m operator\u001b[39m.\u001b[39mindex(idx)\n\u001b[0;32m     97\u001b[0m \u001b[39mif\u001b[39;00m \u001b[39mnot\u001b[39;00m \u001b[39m-\u001b[39msize \u001b[39m<\u001b[39m\u001b[39m=\u001b[39m idx \u001b[39m<\u001b[39m size:\n\u001b[1;32m---> 98\u001b[0m     \u001b[39mraise\u001b[39;00m \u001b[39mIndexError\u001b[39;00m(\u001b[39m'\u001b[39m\u001b[39mindex \u001b[39m\u001b[39m{}\u001b[39;00m\u001b[39m is out of range\u001b[39m\u001b[39m'\u001b[39m\u001b[39m.\u001b[39mformat(idx))\n\u001b[0;32m     99\u001b[0m idx \u001b[39m%\u001b[39m\u001b[39m=\u001b[39m size\n\u001b[0;32m    100\u001b[0m \u001b[39mreturn\u001b[39;00m \u001b[39mnext\u001b[39m(islice(iterator, idx, \u001b[39mNone\u001b[39;00m))\n",
      "\u001b[1;31mIndexError\u001b[0m: index 31 is out of range"
     ]
    }
   ],
   "source": [
    "if j == len(vgg.features) -1:\n",
    "    print(\"Features listas. No seguir.\")\n",
    "with torch.no_grad():\n",
    "\n",
    "    layer = vgg.features[j]\n",
    "\n",
    "    if isinstance(layer, nn.MaxPool2d):\n",
    "        x, location = layer(x)\n",
    "    else:\n",
    "        x = layer(x)\n",
    "    \n",
    "    # Visualizar las convoluciones\n",
    "    if isinstance(layer, nn.Conv2d):\n",
    "        filtro = layer.weight.data.clone().cpu()\n",
    "        filtroVis = visTensor(filtro, ch=0, allkernels=False)\n",
    "\n",
    "    vis = x[0].cpu()\n",
    "    images = [visualizar_imagen(i) for i in vis]\n",
    "    images = images[:10]\n",
    "    \n",
    "    imgVis = image_grid(images, 2, 5)\n",
    "\n",
    "    print(j)\n",
    "    print(layer)\n",
    "    print(\"Dimension tensor: \", x.shape)\n",
    "    print(\"Dimension filtros: \",filtro.shape)\n",
    "    j += 1\n",
    "\n",
    "imgVis"
   ]
  },
  {
   "cell_type": "code",
   "execution_count": 218,
   "metadata": {},
   "outputs": [
    {
     "data": {
      "image/png": "[encoded data removed]",
      "text/plain": [
       "<PIL.Image.Image image mode=RGB size=200x200>"
      ]
     },
     "execution_count": 218,
     "metadata": {},
     "output_type": "execute_result"
    }
   ],
   "source": [
    "filtroVis"
   ]
  },
  {
   "cell_type": "code",
   "execution_count": null,
   "metadata": {},
   "outputs": [],
   "source": [
    "x = x.view(x.size()[0], -1)\n",
    "x = vgg.classifier(x)\n",
    "output = x\n",
    "\n",
    "# Tensor of shape 1000, with confidence scores over ImageNet's 1000 classes\n",
    "probabilities = torch.nn.functional.softmax(output[0], dim=0)\n",
    "\n",
    "with torch.no_grad():\n",
    "    for layer in vgg.features:\n",
    "        if isinstance(layer, nn.MaxPool2d):\n",
    "            x, location = layer(x)\n",
    "        else:\n",
    "            x = layer(x)\n",
    "        \n",
    "        # Visualizar las convoluciones\n",
    "        if isinstance(layer, nn.Conv2d):\n",
    "            filtro = layer.weight.data.clone().cpu()\n",
    "            visTensor(filtro, ch=0, allkernels=False)\n",
    "\n",
    "        vis = x[0].cpu()\n",
    "        images = [visualizar_imagen(i) for i in vis]\n",
    "        \n",
    "        i = 0\n",
    "        for i, image in enumerate(images):\n",
    "            i += 1\n",
    "            if i > 10:\n",
    "                break\n",
    "            image.save('feature_maps/output_{}.jpg'.format(i))\n",
    "\n",
    "        print(\"\")\n",
    "    \n",
    "    x = x.view(x.size()[0], -1)\n",
    "    x = vgg.classifier(x)\n",
    "    output = x\n",
    "\n",
    "# Tensor of shape 1000, with confidence scores over ImageNet's 1000 classes\n",
    "probabilities = torch.nn.functional.softmax(output[0], dim=0)"
   ]
  },
  {
   "cell_type": "markdown",
   "metadata": {},
   "source": [
    "# Categorias"
   ]
  },
  {
   "cell_type": "code",
   "execution_count": null,
   "metadata": {},
   "outputs": [],
   "source": [
    "with open(\"imagenet_classes.txt\", \"r\") as f:\n",
    "    categories = [s.strip() for s in f.readlines()]\n",
    "# Show top categories per image\n",
    "top5_prob, top5_catid = torch.topk(probabilities, 5)\n",
    "for i in range(top5_prob.size(0)):\n",
    "    print(categories[top5_catid[i]], top5_prob[i].item())\n"
   ]
  }
 ],
 "metadata": {
  "kernelspec": {
   "display_name": "joint",
   "language": "python",
   "name": "python3"
  },
  "language_info": {
   "codemirror_mode": {
    "name": "ipython",
    "version": 3
   },
   "file_extension": ".py",
   "mimetype": "text/x-python",
   "name": "python",
   "nbconvert_exporter": "python",
   "pygments_lexer": "ipython3",
   "version": "3.10.4"
  }
 },
 "nbformat": 4,
 "nbformat_minor": 2
}
